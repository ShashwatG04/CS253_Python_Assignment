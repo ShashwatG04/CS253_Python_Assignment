{
 "cells": [
  {
   "cell_type": "markdown",
   "id": "0aa62378-9588-45e9-999a-cab72b48ca1e",
   "metadata": {},
   "source": [
    "# Importing the neccesary libraries"
   ]
  },
  {
   "cell_type": "code",
   "execution_count": 2,
   "id": "1e9f18a6-2cbd-4112-8436-b60d26fddf6e",
   "metadata": {},
   "outputs": [],
   "source": [
    "import pandas as pd\n",
    "from sklearn.model_selection import train_test_split, GridSearchCV\n",
    "from sklearn.preprocessing import LabelEncoder, StandardScaler\n",
    "from sklearn.neighbors import KNeighborsClassifier\n",
    "from sklearn.metrics import f1_score\n",
    "from sklearn.pipeline import make_pipeline\n",
    "from sklearn.impute import SimpleImputer\n",
    "import re"
   ]
  },
  {
   "cell_type": "markdown",
   "id": "123446cc-e918-4cca-98b9-61d34d2163c3",
   "metadata": {},
   "source": [
    "# Load the data"
   ]
  },
  {
   "cell_type": "code",
   "execution_count": 3,
   "id": "0bd18773-8ed9-4ccb-af51-2e9476478417",
   "metadata": {},
   "outputs": [],
   "source": [
    "train_data = pd.read_csv('train.csv')\n",
    "test_data = pd.read_csv('test.csv')\n"
   ]
  },
  {
   "cell_type": "markdown",
   "id": "cd5c43da-6b49-498e-9338-f6950a6f7ea6",
   "metadata": {},
   "source": [
    "# Data Preprocessing"
   ]
  },
  {
   "cell_type": "code",
   "execution_count": null,
   "id": "f92c12fb-ca12-4d2f-8a1e-e26556b84d00",
   "metadata": {},
   "outputs": [],
   "source": [
    "# The data in Assets and liabilites are in the from of strings,so a function is used to convert them into numbers according to the suffix.\n",
    "def get_num(string):\n",
    "    numeric_part = re.search(r'\\d+', string)\n",
    "    if numeric_part:\n",
    "        num = int(numeric_part.group())\n",
    "        if 'Crore+' in string:\n",
    "            return num * 10000000  \n",
    "        elif 'Lac+' in string:\n",
    "            return num * 100000  \n",
    "        elif 'Thou+' in string:\n",
    "            return num * 1000  \n",
    "    return 0\n",
    "\n",
    "\n",
    "# Applying the above function to both train_data and test_data\n",
    "train_data['Total Assets'] = train_data['Total Assets'].apply(get_num)\n",
    "train_data['Liabilities'] = train_data['Liabilities'].apply(get_num)\n",
    "\n",
    "test_data['Total Assets'] = test_data['Total Assets'].apply(get_num)\n",
    "test_data['Liabilities'] = test_data['Liabilities'].apply(get_num)\n",
    "\n",
    "# Party and state are categorial variables so they are assigned unique numerical values\n",
    "encoder = LabelEncoder()\n",
    "train_data['Party'] = encoder.fit_transform(train_data['Party'])\n",
    "test_data['Party'] = encoder.transform(test_data['Party'])\n",
    "train_data['state'] = encoder.fit_transform(train_data['state'])\n",
    "test_data['state'] = encoder.transform(test_data['state'])\n",
    "\n",
    "# Remove the target variable and other variables on which the Education level do not depend much\n",
    "X = train_data.drop(columns=['Education', 'ID', 'Candidate', 'Constituency ∇'])\n",
    "y = train_data['Education']\n",
    "\n",
    "# Split the training data into training and validation parts\n",
    "X_train, X_val, y_train, y_val = train_test_split(X, y, test_size=0.2, random_state=42)\n"
   ]
  },
  {
   "cell_type": "markdown",
   "id": "a6ec2d7b-d598-45d2-a06e-ae98a5c85413",
   "metadata": {},
   "source": [
    "# Defining the Model"
   ]
  },
  {
   "cell_type": "code",
   "execution_count": null,
   "id": "03dde567-f283-4b66-8c48-0c7fe304cc8a",
   "metadata": {},
   "outputs": [],
   "source": [
    "pipeline = make_pipeline(\n",
    "    SimpleImputer(strategy='median'),\n",
    "    StandardScaler(),\n",
    "    KNeighborsClassifier()\n",
    ")\n",
    "\n",
    "# Hyperparameters grid to select the hyperparameters which give the highest score\n",
    "param_grid = {\n",
    "    'kneighborsclassifier__n_neighbors': [3, 5, 10, 15],  \n",
    "    'kneighborsclassifier__weights': ['uniform', 'distance'], \n",
    "    'kneighborsclassifier__p': [1, 2] \n",
    "}\n",
    "\n",
    "grid_search = GridSearchCV(pipeline, param_grid, cv=5, scoring='f1_weighted')\n",
    "\n",
    "# Fitting the appropriate models\n",
    "grid_search.fit(X_train, y_train)\n",
    "\n",
    "# Use the best model\n",
    "best_model = grid_search.best_estimator_"
   ]
  },
  {
   "cell_type": "markdown",
   "id": "aa8c1c94-b302-4978-8ab5-b13c5e7ed6fc",
   "metadata": {},
   "source": [
    "# Applying the best model on the valuation data"
   ]
  },
  {
   "cell_type": "code",
   "execution_count": null,
   "id": "5cbe790b-0d1f-4b9d-a68d-a8d82eaf9c07",
   "metadata": {},
   "outputs": [],
   "source": [
    "# Make predictions on the train_data(validation part) using the model found above\n",
    "y_pred = best_model.predict(X_val)\n",
    "f1 = f1_score(y_val, y_pred, average='weighted')\n",
    "print(\"Best F1 Score on Validation Set:\", f1)\n",
    "\n",
    "# Make predictions on the test_data\n",
    "X_test = test_data.drop(columns=['ID', 'Candidate', 'Constituency ∇'])\n",
    "test_predictions = best_model.predict(X_test)\n",
    "\n",
    "# Output predictions to a CSV file\n",
    "output_df = pd.DataFrame({'ID': test_data['ID'], 'Education': test_predictions})\n",
    "output_df.to_csv('KNNimproved.csv', index=False)"
   ]
  }
 ],
 "metadata": {
  "kernelspec": {
   "display_name": "Python 3 (ipykernel)",
   "language": "python",
   "name": "python3"
  },
  "language_info": {
   "codemirror_mode": {
    "name": "ipython",
    "version": 3
   },
   "file_extension": ".py",
   "mimetype": "text/x-python",
   "name": "python",
   "nbconvert_exporter": "python",
   "pygments_lexer": "ipython3",
   "version": "3.11.7"
  }
 },
 "nbformat": 4,
 "nbformat_minor": 5
}
